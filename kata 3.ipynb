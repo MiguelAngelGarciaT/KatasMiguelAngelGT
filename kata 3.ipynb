{
 "cells": [
  {
   "cell_type": "markdown",
   "metadata": {},
   "source": [
    "# Kata 3"
   ]
  },
  {
   "cell_type": "code",
   "execution_count": 2,
   "metadata": {},
   "outputs": [
    {
     "name": "stdout",
     "output_type": "stream",
     "text": [
      "vamos a morir\n"
     ]
    }
   ],
   "source": [
    "asteroide = 49\n",
    "\n",
    "if asteroide > 25:\n",
    "    print(\"vamos a morir\")\n",
    "else:\n",
    "    print (\"no pasa nada\")"
   ]
  },
  {
   "cell_type": "code",
   "execution_count": 12,
   "metadata": {},
   "outputs": [
    {
     "name": "stdout",
     "output_type": "stream",
     "text": [
      "no se ve nada\n"
     ]
    }
   ],
   "source": [
    "asteroide = 19\n",
    "if asteroide >= 20:\n",
    "    print (\"Miren al cielo\")\n",
    "elif asteroide == 20:\n",
    "    print (\"miren al cielo\")\n",
    "else:\n",
    "    print (\"no se ve nada\")"
   ]
  },
  {
   "cell_type": "code",
   "execution_count": 14,
   "metadata": {},
   "outputs": [
    {
     "name": "stdout",
     "output_type": "stream",
     "text": [
      "miren al cielo\n"
     ]
    }
   ],
   "source": [
    "tamaño_asteroide = 26\n",
    "velocidad_asteroide = 26\n",
    "\n",
    "if velocidad_asteroide > 25 and tamaño_asteroide > 25:\n",
    "    print(\"vamos a morir\")\n",
    "elif velocidad_asteroide >=20:\n",
    "    print(\"miren al cielo\")\n",
    "elif tamaño_asteroide < 25:\n",
    "    print(\"no pasa nada\")\n",
    "else:\n",
    "    print(\"todo tranquilo\")"
   ]
  }
 ],
 "metadata": {
  "interpreter": {
   "hash": "3dfe7e46270cce3095d69d2815743e6ba2f767aef4490efede71fcfd1b0b0d5d"
  },
  "kernelspec": {
   "display_name": "Python 3.10.2 64-bit",
   "language": "python",
   "name": "python3"
  },
  "language_info": {
   "codemirror_mode": {
    "name": "ipython",
    "version": 3
   },
   "file_extension": ".py",
   "mimetype": "text/x-python",
   "name": "python",
   "nbconvert_exporter": "python",
   "pygments_lexer": "ipython3",
   "version": "3.10.2"
  },
  "orig_nbformat": 4
 },
 "nbformat": 4,
 "nbformat_minor": 2
}
